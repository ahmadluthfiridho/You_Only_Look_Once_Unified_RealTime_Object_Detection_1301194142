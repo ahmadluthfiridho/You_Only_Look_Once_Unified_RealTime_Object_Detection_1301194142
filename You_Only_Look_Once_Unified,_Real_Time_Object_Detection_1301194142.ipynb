{
  "nbformat": 4,
  "nbformat_minor": 0,
  "metadata": {
    "colab": {
      "provenance": [],
      "authorship_tag": "ABX9TyPnPazGxzOMtPgue+EAETBO",
      "include_colab_link": true
    },
    "kernelspec": {
      "name": "python3",
      "display_name": "Python 3"
    },
    "language_info": {
      "name": "python"
    }
  },
  "cells": [
    {
      "cell_type": "markdown",
      "metadata": {
        "id": "view-in-github",
        "colab_type": "text"
      },
      "source": [
        "<a href=\"https://colab.research.google.com/github/ahmadluthfiridho/You_Only_Look_Once_Unified_RealTime_Object_Detection_1301194142/blob/main/You_Only_Look_Once_Unified%2C_Real_Time_Object_Detection_1301194142.ipynb\" target=\"_parent\"><img src=\"https://colab.research.google.com/assets/colab-badge.svg\" alt=\"Open In Colab\"/></a>"
      ]
    },
    {
      "cell_type": "code",
      "execution_count": null,
      "metadata": {
        "id": "40xHT9wTuG32"
      },
      "outputs": [],
      "source": []
    }
  ]
}